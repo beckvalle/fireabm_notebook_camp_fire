{
 "cells": [
  {
   "cell_type": "markdown",
   "metadata": {},
   "source": [
    "# Road Graph Creation Workflow"
   ]
  },
  {
   "cell_type": "markdown",
   "metadata": {},
   "source": [
    "This notebook creates a stored road graph file so that the Osmnx API is not called for every run and the same cleaning techniques are used for each road graph. This saves time that would otherwise be needed to rebuild graphs for each simulation run.\n",
    "\n",
    "This notebook demonstrates code to run a wildfire evacuation agent based model. This notebook is a companion to the forthcoming manuscript, \"Evaluating Routing Strategies for Emergency Evacuation: A Spatially Explicit Agent-Based Modeling Approach\" by Rebecca Vandewalle, Furqan Baig, Santiago Nunez-Corrales, Jeon Young Kang, and Shaowen Wang.\n",
    "\n",
    "Notebook author: Rebecca Vandewalle\n",
    "<br>Last updated: 1-4-24"
   ]
  },
  {
   "cell_type": "markdown",
   "metadata": {},
   "source": [
    "<a id='top'></a>\n",
    "## Table of Contents\n",
    "- [Initial setup](#setup)\n",
    "- [Rebuild road graph](#rebuild)"
   ]
  },
  {
   "cell_type": "markdown",
   "metadata": {},
   "source": [
    "### Load Software Packages"
   ]
  },
  {
   "cell_type": "markdown",
   "metadata": {},
   "source": [
    "For basic setup: First, select the `Python 3-0.8.0` kernel within CyberGISX. Then, make sure the primary software packages are using the expected versions. Namely, Networkx should be `2.5.1` and OSMnx should be `1.0.1`."
   ]
  },
  {
   "cell_type": "code",
   "execution_count": 1,
   "metadata": {},
   "outputs": [
    {
     "name": "stdout",
     "output_type": "stream",
     "text": [
      "Networkx version is  2.5.1\n",
      "OSMnx version is  1.0.1\n"
     ]
    }
   ],
   "source": [
    "# check networkx and osmnx versions\n",
    "# note - need to use Python 3-0.8.0 Kernel (in CyberGISX)\n",
    "import networkx\n",
    "import osmnx\n",
    "print(\"Networkx version is \", networkx.__version__) # expected version is 2.5.1\n",
    "print(\"OSMnx version is \", osmnx.__version__) # expected version is 1.0.1"
   ]
  },
  {
   "cell_type": "markdown",
   "metadata": {},
   "source": [
    "If the versions are not the expected ones, install the correct versions by un-commenting out the two below pip install lines. You will need to restart the kernel after installation."
   ]
  },
  {
   "cell_type": "code",
   "execution_count": 2,
   "metadata": {},
   "outputs": [
    {
     "name": "stdout",
     "output_type": "stream",
     "text": [
      "Networkx version is  2.5.1\n",
      "OSMnx version is  1.0.1\n"
     ]
    }
   ],
   "source": [
    "# uncomment the following two lines to install expected versions using pip\n",
    "\n",
    "#%pip install --upgrade networkx==2.5.1\n",
    "#%pip install --upgrade osmnx==1.0.1\n",
    "\n",
    "# re -load check updated versions\n",
    "import networkx\n",
    "import osmnx\n",
    "print(\"Networkx version is \", networkx.__version__) # expected version is 2.5.1\n",
    "print(\"OSMnx version is \",osmnx.__version__) # expected version is 1.0.1"
   ]
  },
  {
   "cell_type": "markdown",
   "metadata": {
    "tags": []
   },
   "source": [
    "<a id='setup'></a>\n",
    "## Initial setup\n",
    "([back to Table of Contents](#top))"
   ]
  },
  {
   "cell_type": "markdown",
   "metadata": {},
   "source": [
    "These code cells import the primary code and set the parameters used for creating the road graphs."
   ]
  },
  {
   "cell_type": "code",
   "execution_count": 3,
   "metadata": {},
   "outputs": [],
   "source": [
    "# import functions from main code base\n",
    "from FireABM_24 import *\n"
   ]
  },
  {
   "cell_type": "code",
   "execution_count": 4,
   "metadata": {},
   "outputs": [],
   "source": [
    "# set road graph parameters - these were used in the accompanying manuscript\n",
    "# this downloads road graphs for the city of Paradise, California\n",
    "central_addresses = ['6161 Clark Rd, Paradise, CA 95969']\n",
    "names = ['Paradise_fire']\n",
    "hhs = [\"Butte_tracts_HH.shp\"]\n",
    "fires = [\"camp_fire.shp\"]\n",
    "distances = [2000, 8000]\n"
   ]
  },
  {
   "cell_type": "markdown",
   "metadata": {},
   "source": [
    "### Data download setup"
   ]
  },
  {
   "cell_type": "markdown",
   "metadata": {},
   "source": [
    "The Camp Fire occurred on November 8, 2018. Change the `OSMnx` package settings to download data from before the fire, in this case, November 7, 2018. The `OSMnx` package downloads Open Street Map data using the `Overpass` tool. The `Overpass` tool accepts a date string to filter data."
   ]
  },
  {
   "cell_type": "code",
   "execution_count": 5,
   "metadata": {},
   "outputs": [
    {
     "data": {
      "text/plain": [
       "'[out:json][timeout:{timeout}]{maxsize}[date:\"2018-11-07T00:00:00Z\"]'"
      ]
     },
     "execution_count": 5,
     "metadata": {},
     "output_type": "execute_result"
    }
   ],
   "source": [
    "# Update Overpass settings to get historic data\n",
    "settings = '''[out:json][timeout:{timeout}]{maxsize}''' # save existing settings\n",
    "load_date = '''[date:\"2018-11-07T00:00:00Z\"]''' # set download date to send to Overpass (OSM data downloader)\n",
    "# add date to Overpass settings\n",
    "osmnx.settings.overpass_settings = settings+load_date\n",
    "# check updated settings to make sure the date is added\n",
    "osmnx.settings.overpass_settings"
   ]
  },
  {
   "cell_type": "markdown",
   "metadata": {},
   "source": [
    "<a id='rebuild'></a>\n",
    "## Rebuild road graph\n",
    "([back to Table of Contents](#top))"
   ]
  },
  {
   "cell_type": "markdown",
   "metadata": {},
   "source": [
    "### CAUTION!!!\n",
    "\n",
    "**Running the script in this notebook will overwrite contents of Paradise_fire_2000.pkl and Paradise_fire_8000.pkl**\n",
    "\n",
    "Two road graph files are provided with this notebook; Paradise_fire_2000.pkl and Paradise_fire_8000.pkl. Road network information are from OpenStreetMap, so road network data can be edited by OpenStreetMap users at any time. Paradise_fire_2000.pkl and Paradise_fire_8000.pkl are created using code in this notebook (Rebuild_Road_Graphs). If you run this notebook, you will overwrite the existing road network files with new ones."
   ]
  },
  {
   "cell_type": "markdown",
   "metadata": {},
   "source": [
    "The graph building process can take a few minutes (but no more than ~5 minutes). Because of this, the next cell has a flag. If `run_rebuild` is set to `False`, the rebuilding graph code will not run. If you change the value of `run_rebuild` to `True` the rebuilding graph code will run."
   ]
  },
  {
   "cell_type": "code",
   "execution_count": 8,
   "metadata": {},
   "outputs": [],
   "source": [
    "# flag to rebuild road graphs\n",
    "# set to True to run following cell\n",
    "run_rebuild = False"
   ]
  },
  {
   "cell_type": "markdown",
   "metadata": {},
   "source": [
    "The code in the next cell builds the road graphs and preprocesses the data in preparation for use in the experiments used in the manuscript. First it requests the raw files from OpenStreetMap, then fills in missing attributes, projects the graph, and finally adds functionality used in the simulation."
   ]
  },
  {
   "cell_type": "code",
   "execution_count": 7,
   "metadata": {},
   "outputs": [
    {
     "name": "stdout",
     "output_type": "stream",
     "text": [
      "Paradise_fire_2000.pkl\n",
      "Paradise_fire_8000.pkl\n"
     ]
    }
   ],
   "source": [
    "# rebuild road graphs\n",
    "if run_rebuild:  # flag to protect this code block from auto running\n",
    "    # iterate through parameters\n",
    "    for indx in range(len(central_addresses)):\n",
    "        for dist in distances:\n",
    "            road_graph = ox.graph_from_address(\n",
    "                central_addresses[indx], dist=dist, dist_type='bbox',\n",
    "                network_type='drive_service',\n",
    "                clean_periphery=True, truncate_by_edge=True)\n",
    "\n",
    "            # adds bearings (directions)\n",
    "            road_graph = ox.add_edge_bearings(road_graph)\n",
    "            # projects graph\n",
    "            road_graph = ox.project_graph(road_graph)\n",
    "            # fills missing speeds, removes dead ends\n",
    "            road_graph = cleanUp(road_graph)\n",
    "\n",
    "            # adds unit speed\n",
    "            road_graph = add_unit_speed(road_graph)\n",
    "            # adds weights for road types\n",
    "            road_graph = add_road_type_weights(road_graph)\n",
    "\n",
    "            # exports nodes and edges for easier functionality\n",
    "            gdf_nodes, gdf_edges = get_node_edge_gdf(road_graph)\n",
    "            # creates bounding boxes\n",
    "            (bbox, lbbox, poly, x, y) = create_bboxes(gdf_nodes, 0.01)\n",
    "\n",
    "            # loads households shapefile\n",
    "            hh_tract = load_shpfile(road_graph, (\"households\", hhs[indx]))\n",
    "            # adds households to road graph\n",
    "            road_graph, overlap = add_households(road_graph, hh_tract, hhs[indx],\n",
    "                                                 \"Tot_Est_HH\", num_col=4,\n",
    "                                                 bbox_poly=poly)\n",
    "\n",
    "            # loads fire shapefile\n",
    "            fire_file = load_shpfile(road_graph, (\"fire_input\", fires[indx]))\n",
    "            # sets fire shapefile start time\n",
    "            init_fire = fire_file[fire_file['SimTime'] == 0]\n",
    "            # adds distance from fire\n",
    "            road_graph = add_fire_distance(road_graph, init_fire)\n",
    "\n",
    "            # exports nodes and edges again to add household and fire info\n",
    "            gdf_nodes, gdf_edges = get_node_edge_gdf(road_graph)\n",
    "\n",
    "            # normalizes certain attributes\n",
    "            road_graph = normalize_edge_attribute(road_graph, 'length',\n",
    "                                                  min(gdf_edges.length),\n",
    "                                                  max(gdf_edges.length),\n",
    "                                                  'length_n')\n",
    "            road_graph = normalize_edge_attribute(road_graph, 'rt_weighted_len',\n",
    "                                                  min(gdf_edges.rt_weighted_len),\n",
    "                                                  max(gdf_edges.rt_weighted_len),\n",
    "                                                  'rt_wght_len_n')\n",
    "            road_graph = normalize_edge_attribute(road_graph, 'fire_dist',\n",
    "                                                  min(gdf_edges.fire_dist),\n",
    "                                                  max(gdf_edges.fire_dist),\n",
    "                                                  'fire_dist_n')\n",
    "            road_graph = invert_norm_edge_attribute(road_graph,\n",
    "                                                    'fire_dist_n',\n",
    "                                                    'inv_fire_dist_n')\n",
    "\n",
    "            # exports graphs to file\n",
    "            outname = names[indx]+'_'+str(dist)+'.pkl'\n",
    "            nx.write_gpickle(road_graph, path=outname)\n",
    "            print(outname)\n"
   ]
  },
  {
   "cell_type": "code",
   "execution_count": null,
   "metadata": {},
   "outputs": [],
   "source": []
  },
  {
   "cell_type": "code",
   "execution_count": null,
   "metadata": {},
   "outputs": [],
   "source": []
  }
 ],
 "metadata": {
  "kernelspec": {
   "display_name": "Python 3-0.8.0",
   "language": "python",
   "name": "python3-0.8.0"
  },
  "language_info": {
   "codemirror_mode": {
    "name": "ipython",
    "version": 3
   },
   "file_extension": ".py",
   "mimetype": "text/x-python",
   "name": "python",
   "nbconvert_exporter": "python",
   "pygments_lexer": "ipython3",
   "version": "3.8.3"
  }
 },
 "nbformat": 4,
 "nbformat_minor": 4
}
