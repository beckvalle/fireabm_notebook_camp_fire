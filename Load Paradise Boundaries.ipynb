{
 "cells": [
  {
   "cell_type": "markdown",
   "id": "20f458f9-1b6d-4950-a393-eb8ad40a947a",
   "metadata": {},
   "source": [
    "# Load Municipal Boundaries for Paradise"
   ]
  },
  {
   "cell_type": "markdown",
   "id": "665c1fa7-6b9c-4b89-864b-dcd70c6d0a05",
   "metadata": {},
   "source": [
    "City boundaries for California cities can be downloaded from the California State Geoportal. This dataset is `California City Boundaries and Identifiers with Coastal Buffers`, authored by the `California Department of Technology`, and can be downloaded from the following link: https://gis.data.ca.gov/datasets/be8a1cd8eff242b0a25feb54e5a2f5a6_2/explore . \n",
    "\n",
    "The origional California City Boundaries file is too large to host on GitHub. The following code was used to extract boundaries for Paradise from the file donloaded at the above California State Geoportal. The extracted file is saved as `Paradise_bounds.geojson`. \n",
    "\n",
    "To reproduce, first download the full California City Boundaries dataset from the link above and replace `California_Cities.geojson` in the following code with your name for this downloaded file."
   ]
  },
  {
   "cell_type": "markdown",
   "id": "ac7aeac3-c43b-47ac-8884-852008eefe17",
   "metadata": {},
   "source": [
    "For basic setup: First, select the `Python 3-0.9.4` kernel within CyberGISX. Then, make sure the primary software packages are using the expected versions."
   ]
  },
  {
   "cell_type": "code",
   "execution_count": 11,
   "id": "a02772cd-27a8-429d-88af-0dbc253d334c",
   "metadata": {},
   "outputs": [
    {
     "name": "stdout",
     "output_type": "stream",
     "text": [
      "Networkx version is  2.5.1\n",
      "OSMnx version is  1.0.1\n",
      "Geopandas version is  0.13.2\n"
     ]
    }
   ],
   "source": [
    "# Note - the Python 3-0.9.4 kernel is needed for the code to work\n",
    "\n",
    "import networkx\n",
    "import osmnx\n",
    "import geopandas as gpd\n",
    "print(\"Networkx version is \", networkx.__version__) # expected version is 2.5.1\n",
    "print(\"OSMnx version is \", osmnx.__version__) # expected version is 1.0.1\n",
    "print(\"Geopandas version is \", gpd.__version__) # expected version is 0.13.2"
   ]
  },
  {
   "cell_type": "code",
   "execution_count": 6,
   "id": "9a4e9761-13b6-4d61-8a15-5c04f38054af",
   "metadata": {},
   "outputs": [],
   "source": [
    "# this section is commented out because the file `California_Cities.geojson` is large\n",
    "# download the file from the California State Geoportal\n",
    "# and uncomment this section to reproduce locally\n",
    "\n",
    "# replace 'California_Cities.geojson' with the name for your downloaded file\n",
    "california_cities = gpd.read_file('California_Cities.geojson')\n",
    "paradise_bd = california_cities[california_cities.CITY == \"Paradise\"]\n",
    "paradise_bd.to_file(\"Paradise_bounds.geojson\", driver='GeoJSON')"
   ]
  },
  {
   "cell_type": "code",
   "execution_count": 7,
   "id": "64ec35c1-5846-44b5-85e4-f100da630e0c",
   "metadata": {},
   "outputs": [],
   "source": []
  }
 ],
 "metadata": {
  "kernelspec": {
   "display_name": "Python 3-0.9.4",
   "language": "python",
   "name": "python3-0.9.4"
  },
  "language_info": {
   "codemirror_mode": {
    "name": "ipython",
    "version": 3
   },
   "file_extension": ".py",
   "mimetype": "text/x-python",
   "name": "python",
   "nbconvert_exporter": "python",
   "pygments_lexer": "ipython3",
   "version": "3.8.12"
  }
 },
 "nbformat": 4,
 "nbformat_minor": 5
}
