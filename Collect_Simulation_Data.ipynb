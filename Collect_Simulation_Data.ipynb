{
 "cells": [
  {
   "cell_type": "markdown",
   "id": "cca9bd31-90e3-4e63-9798-a25954669b2d",
   "metadata": {},
   "source": [
    "# Collect Wildfire Evacuation Experiment Results to One File"
   ]
  },
  {
   "cell_type": "markdown",
   "id": "697cc4e0-bfcf-4f52-959a-05dc8451ee57",
   "metadata": {},
   "source": [
    "This notebook is used to collate data from experiments into one file.\n",
    "\n",
    "See the [Run_Camp_Fire_Simulation](./Run_Camp_Fire_Simulation.ipynb) for more information on the code needed to create the simulation results that are used in this notebook.\n",
    "\n",
    "Notebook author: Rebecca Vandewalle\n",
    "<br>Last updated: 12-19-24"
   ]
  },
  {
   "cell_type": "markdown",
   "id": "b0f6c16e-1d9e-4a16-b9d2-b5e2d1519d60",
   "metadata": {},
   "source": [
    "## Scripts used in this notebook"
   ]
  },
  {
   "cell_type": "markdown",
   "id": "c7fc8cfc-1d2e-4bd1-be06-1a9956b58edc",
   "metadata": {},
   "source": [
    "This notebook uses the `collect_results_by_strat.py` in the `get_results` folder. For each strategy, this script will combine all individual results to one file.\n",
    "\n",
    "Input parameters for this script are:\n",
    "- `-ifd`: input folder containing summary files for each simulation run (stored in the '*files' subfolder, where * is typicaly `1`\n",
    "- `-ofd`: output file to store results in"
   ]
  },
  {
   "cell_type": "markdown",
   "id": "e293da51-bfe1-41ad-b5df-0f0429756e9d",
   "metadata": {},
   "source": [
    "### Combine files for shortest distance routing strategy"
   ]
  },
  {
   "cell_type": "code",
   "execution_count": 9,
   "id": "bda3de90-ad96-4bd7-928a-2bee8032d495",
   "metadata": {},
   "outputs": [
    {
     "name": "stdout",
     "output_type": "stream",
     "text": [
      "current_directory:  /home/jovyan/work/fireabm_notebook_camp_fire\n",
      "in_folder:  camp_fire_800_dist/1files\n",
      "full in_folder:  /home/jovyan/work/fireabm_notebook_camp_fire/camp_fire_800_dist/1files\n",
      "\n",
      "out_file:  sim_results/camp_800_dist.txt\n",
      "full out_file:  /home/jovyan/work/fireabm_notebook_camp_fire/sim_results/camp_800_dist.txt\n",
      "\n",
      "total number files: 29\n",
      "collection complete\n"
     ]
    }
   ],
   "source": [
    "! python ./get_results/collect_results_by_strat.py -ifd camp_fire_800_dist/1files -ofd sim_results/camp_800_dist.txt"
   ]
  },
  {
   "cell_type": "markdown",
   "id": "1e04f5cd-54b6-4aad-b269-ceeecf591a31",
   "metadata": {},
   "source": [
    "### Combine files for quickest routing strategy"
   ]
  },
  {
   "cell_type": "code",
   "execution_count": 10,
   "id": "d57735fa-dbfc-4a43-b74f-ec16b21f0f55",
   "metadata": {},
   "outputs": [
    {
     "name": "stdout",
     "output_type": "stream",
     "text": [
      "current_directory:  /home/jovyan/work/fireabm_notebook_camp_fire\n",
      "in_folder:  camp_fire_800_quickest/1files\n",
      "full in_folder:  /home/jovyan/work/fireabm_notebook_camp_fire/camp_fire_800_quickest/1files\n",
      "\n",
      "out_file:  sim_results/camp_800_quickest.txt\n",
      "full out_file:  /home/jovyan/work/fireabm_notebook_camp_fire/sim_results/camp_800_quickest.txt\n",
      "\n",
      "total number files: 26\n",
      "collection complete\n"
     ]
    }
   ],
   "source": [
    "! python ./get_results/collect_results_by_strat.py -ifd camp_fire_800_quickest/1files -ofd sim_results/camp_800_quickest.txt"
   ]
  },
  {
   "cell_type": "markdown",
   "id": "69f3689b-41c3-410f-ba4f-af1e6c9f3fe7",
   "metadata": {},
   "source": [
    "### Combine files for major roads routing strategy"
   ]
  },
  {
   "cell_type": "code",
   "execution_count": 11,
   "id": "b06f5457-baa7-40c5-9f88-0144e8d66fc4",
   "metadata": {},
   "outputs": [
    {
     "name": "stdout",
     "output_type": "stream",
     "text": [
      "current_directory:  /home/jovyan/work/fireabm_notebook_camp_fire\n",
      "in_folder:  camp_fire_800_major/1files\n",
      "full in_folder:  /home/jovyan/work/fireabm_notebook_camp_fire/camp_fire_800_major/1files\n",
      "\n",
      "out_file:  sim_results/camp_800_major.txt\n",
      "full out_file:  /home/jovyan/work/fireabm_notebook_camp_fire/sim_results/camp_800_major.txt\n",
      "\n",
      "total number files: 25\n",
      "collection complete\n"
     ]
    }
   ],
   "source": [
    "! python ./get_results/collect_results_by_strat.py -ifd camp_fire_800_major/1files -ofd sim_results/camp_800_major.txt"
   ]
  },
  {
   "cell_type": "markdown",
   "id": "38ad90d8-2a63-446d-9363-683ac9f4023d",
   "metadata": {},
   "source": [
    "### Combine strategy files for all routing strategies"
   ]
  },
  {
   "cell_type": "markdown",
   "id": "d94f0ea0-4708-4605-99aa-7f0d63079cff",
   "metadata": {},
   "source": [
    "In this section, results files per all strategies are combined from each of the collected results by strategy files into one final file with all the simulation results for this experiment. The final file with all results is titled `camp_800_all_strat.txt`."
   ]
  },
  {
   "cell_type": "code",
   "execution_count": 13,
   "id": "9530592c-ee2c-4b4e-b3a3-4bb9c34ac867",
   "metadata": {},
   "outputs": [
    {
     "name": "stdout",
     "output_type": "stream",
     "text": [
      "current_directory:  /home/jovyan/work/fireabm_notebook_camp_fire\n",
      "in_folder:  sim_results\n",
      "full in_folder:  /home/jovyan/work/fireabm_notebook_camp_fire/sim_results\n",
      "\n",
      "out_file:  camp_800_all_strat.txt\n",
      "full out_file:  /home/jovyan/work/fireabm_notebook_camp_fire/camp_800_all_strat.txt\n",
      "\n",
      "total number files: 3\n",
      "collection complete\n"
     ]
    }
   ],
   "source": [
    "! python ./get_results/collect_results_by_strat.py -ifd sim_results -ofd camp_800_all_strat.txt"
   ]
  },
  {
   "cell_type": "code",
   "execution_count": null,
   "id": "e34ff2aa-ef82-4638-9be6-d4e285af35c6",
   "metadata": {},
   "outputs": [],
   "source": []
  }
 ],
 "metadata": {
  "kernelspec": {
   "display_name": "Python 3-0.8.0",
   "language": "python",
   "name": "python3-0.8.0"
  },
  "language_info": {
   "codemirror_mode": {
    "name": "ipython",
    "version": 3
   },
   "file_extension": ".py",
   "mimetype": "text/x-python",
   "name": "python",
   "nbconvert_exporter": "python",
   "pygments_lexer": "ipython3",
   "version": "3.8.3"
  }
 },
 "nbformat": 4,
 "nbformat_minor": 5
}
