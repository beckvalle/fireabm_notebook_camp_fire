{
 "cells": [
  {
   "cell_type": "markdown",
   "id": "864d68c6-9b0e-4f1d-a098-fe01190ebbce",
   "metadata": {},
   "source": [
    "# Check for double runs of good seeds"
   ]
  },
  {
   "cell_type": "markdown",
   "id": "b3f3ea24-62fb-4e14-b4ed-7eb4649245fb",
   "metadata": {},
   "source": [
    "This is a small notebook to check for unfinished duplicate runs of good seeds. First run set up by loading needed libraries, setting variables for folder and file prefixes. Having partially completed runs of good seeds may mess up the visualization."
   ]
  },
  {
   "cell_type": "code",
   "execution_count": 35,
   "id": "fb6dad7c-3e9d-4c95-952d-2cbc000f50e7",
   "metadata": {},
   "outputs": [],
   "source": [
    "# Import needed libraries\n",
    "import os\n",
    "import glob\n",
    "import re"
   ]
  },
  {
   "cell_type": "code",
   "execution_count": 36,
   "id": "315d770d-732e-42f5-9db2-d5172c41370b",
   "metadata": {},
   "outputs": [],
   "source": [
    "# Set output folder name\n",
    "out_folder = 'out_figures_camp'\n",
    "# set result folder names and file start\n",
    "result_prefix = \"camp_fire_800_\"\n",
    "subfolder_names = [\"1trajs\", \"1files\"]\n",
    "file_start_names = [\"result_file_0_\", \"output_file_0_\"]"
   ]
  },
  {
   "cell_type": "markdown",
   "id": "692f5b47-e7ec-407f-8eed-da28cddfd751",
   "metadata": {},
   "source": [
    "Now set strategies and the seeds to look through."
   ]
  },
  {
   "cell_type": "code",
   "execution_count": 37,
   "id": "0a50eb04-6700-47df-b416-908aa059ba3c",
   "metadata": {},
   "outputs": [],
   "source": [
    "# set strategy: quickest, major, or dist\n",
    "strategies = [\"quickest\", \"major\", \"dist\"]\n",
    "# set seeds\n",
    "seeds = [4, 5, 6, 9, 12, 15, 16, 22, 25, 26, 28, 29, 30, 32, 33, 36, 38, 44, 47]"
   ]
  },
  {
   "cell_type": "markdown",
   "id": "b6514ce3-a740-401f-9bda-4d70f6c127ec",
   "metadata": {},
   "source": [
    "Loop through the strategies and the seeds to check how many results exist per seed."
   ]
  },
  {
   "cell_type": "code",
   "execution_count": 39,
   "id": "5eebc4ba-36ac-4144-9dcd-2d2c70461061",
   "metadata": {},
   "outputs": [
    {
     "name": "stdout",
     "output_type": "stream",
     "text": [
      "complete\n"
     ]
    }
   ],
   "source": [
    "for i, strat in enumerate(strategies):\n",
    "    for j, seed in enumerate(seeds):\n",
    "        for k, subfolder in enumerate(subfolder_names):\n",
    "            for l, file_start in enumerate(file_start_names):\n",
    "                result_folder = result_prefix+strat\n",
    "                file_path = glob.glob(os.path.join(result_folder, subfolder, file_start+str(seed)+'_*.txt'))\n",
    "                if len(file_path) > 1:\n",
    "                    for path in file_path:\n",
    "                        print(path)\n",
    "                    print()  \n",
    "print(\"complete\")\n",
    "        "
   ]
  },
  {
   "cell_type": "code",
   "execution_count": null,
   "id": "18562b6a-5f44-43b4-a5b3-92f7fa085c49",
   "metadata": {},
   "outputs": [],
   "source": []
  }
 ],
 "metadata": {
  "kernelspec": {
   "display_name": "Python 3-0.9.4",
   "language": "python",
   "name": "python3-0.9.4"
  },
  "language_info": {
   "codemirror_mode": {
    "name": "ipython",
    "version": 3
   },
   "file_extension": ".py",
   "mimetype": "text/x-python",
   "name": "python",
   "nbconvert_exporter": "python",
   "pygments_lexer": "ipython3",
   "version": "3.8.12"
  }
 },
 "nbformat": 4,
 "nbformat_minor": 5
}
