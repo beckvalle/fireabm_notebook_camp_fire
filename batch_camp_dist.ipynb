{
 "cells": [
  {
   "cell_type": "markdown",
   "id": "2b78c867-85e3-4689-8e71-79493b88b848",
   "metadata": {},
   "source": [
    "## Batch run a simulation"
   ]
  },
  {
   "cell_type": "code",
   "execution_count": 13,
   "id": "cc91aa47-9571-46e2-8311-5b616a105c66",
   "metadata": {},
   "outputs": [],
   "source": [
    "import os\n",
    "out_path = os.getcwd() # save current path \n",
    "if not os.path.isdir('camp_fire_800_dist'): # create quick start output directory\n",
    "    os.mkdir('camp_fire_800_dist')"
   ]
  },
  {
   "cell_type": "code",
   "execution_count": 14,
   "id": "2e3e036f-9ea7-4637-adab-c253e3958e49",
   "metadata": {},
   "outputs": [
    {
     "name": "stdout",
     "output_type": "stream",
     "text": [
      "\n",
      "!! starting file parse at: 19:31:21\n",
      "\n",
      "!! checking input parameters\n",
      "!! input parameters OK\n",
      "\n",
      "!! starting full run at 19:31:21 \n",
      "\n",
      "!! run simulation\n",
      "\n",
      "run params: 100% shortest distance i: 0 j: 50 SEED: 50 strat_perc 1.0\n",
      "\tEND init\n",
      "\tfire spreads.... 3.0\n",
      "\tfire spreads.... 4.0\n",
      "\tfire spreads.... 5.0\n",
      "\tfire spreads.... 6.0\n",
      "\tfire spreads.... 7.0\n",
      "\tFinished at frame_number 632\n",
      "\n",
      "success! no: 1 run_time: 0:37:51.425429 timestamp: 20:09:13\n",
      "\n",
      "bad_seeds []\n",
      "\n",
      "!! ending full run at 20:09:13, elapsed time: 0:37:51.425972\n",
      "!! runs completed: 1 / 1\n",
      "!! Full simulation block complete!\n",
      "\n"
     ]
    }
   ],
   "source": [
    "# run a larger simulation\n",
    "\n",
    "!python run_fireabm_24.py -nv 800 -sd 50 -epath \"$out_path\" \\\n",
    "-ofd camp_fire_800_dist -strat dist -rg Paradise_fire_8000.pkl \\\n",
    "-exdsc 'camp_fire_800_dist' -strd 1.0"
   ]
  },
  {
   "cell_type": "code",
   "execution_count": null,
   "id": "1297b8de-fea5-4020-9a35-d99f0bf1db00",
   "metadata": {},
   "outputs": [],
   "source": []
  }
 ],
 "metadata": {
  "kernelspec": {
   "display_name": "Python 3-0.8.0",
   "language": "python",
   "name": "python3-0.8.0"
  },
  "language_info": {
   "codemirror_mode": {
    "name": "ipython",
    "version": 3
   },
   "file_extension": ".py",
   "mimetype": "text/x-python",
   "name": "python",
   "nbconvert_exporter": "python",
   "pygments_lexer": "ipython3",
   "version": "3.8.3"
  }
 },
 "nbformat": 4,
 "nbformat_minor": 5
}
